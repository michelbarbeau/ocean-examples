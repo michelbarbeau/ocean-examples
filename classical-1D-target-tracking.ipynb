{
 "cells": [
  {
   "cell_type": "markdown",
   "metadata": {},
   "source": [
    "###### Target Trackin Optimization\n",
    "## Author: Michel Barbeau, Carleton University\n",
    "## Version: March 6, 2024\n",
    "\n",
    "\n",
    "\\begin{equation}\n",
    "\\mathop{\\mathsf{minimize}}_x f(x)\\\\\n",
    "\\text{subject to } c(x) \\le b\n",
    "\\end{equation}"
   ]
  },
  {
   "cell_type": "code",
   "execution_count": 102,
   "metadata": {},
   "outputs": [],
   "source": [
    "import numpy as np\n",
    "import scipy.linalg as la\n",
    "import matplotlib.pyplot as plt\n",
    "import scipy.optimize as opt\n",
    "from scipy.optimize import Bounds, LinearConstraint, NonlinearConstraint\n",
    "from timeit import default_timer as timer"
   ]
  },
  {
   "cell_type": "code",
   "execution_count": 103,
   "metadata": {},
   "outputs": [
    {
     "name": "stdout",
     "output_type": "stream",
     "text": [
      "\n",
      "Number of instants:  10\n",
      "\n",
      "Target positions:  [0 7 4 3 3 3 8 6 9 6]\n"
     ]
    }
   ],
   "source": [
    "# number of instants\n",
    "n = 10\n",
    "maxpos=10\n",
    "print(\"\\nNumber of instants: \", n)\n",
    "# generate target's random positions\n",
    "rng = np.random.default_rng()\n",
    "pos = rng.integers(low=0, high=maxpos, size=n)\n",
    "pos = np.array([0, 7, 4, 3, 3, 3, 8, 6, 9, 6])\n",
    "print(\"\\nTarget positions: \", pos)"
   ]
  },
  {
   "cell_type": "markdown",
   "metadata": {},
   "source": [
    "### Linear constraints"
   ]
  },
  {
   "cell_type": "code",
   "execution_count": 104,
   "metadata": {},
   "outputs": [
    {
     "name": "stdout",
     "output_type": "stream",
     "text": [
      "Bounds(array([0., 0., 0., 0., 0., 0., 0., 0., 0., 0.]), array([10., 10., 10., 10., 10., 10., 10., 10., 10., 10.]))\n"
     ]
    }
   ],
   "source": [
    "# minimum position\n",
    "vmin = 0\n",
    "# maximum position\n",
    "vmax = 10\n",
    "C1 = Bounds(np.array(np.zeros(n))+vmin, np.array(np.zeros(n))+vmax)\n",
    "print(C1)"
   ]
  },
  {
   "cell_type": "markdown",
   "metadata": {},
   "source": [
    "### Non linear constraint"
   ]
  },
  {
   "cell_type": "code",
   "execution_count": 105,
   "metadata": {},
   "outputs": [
    {
     "name": "stdout",
     "output_type": "stream",
     "text": [
      "[1. 1. 1. 1. 1. 1. 1. 1. 1. 1.]\n",
      "[2. 2. 2. 2. 2. 2. 2. 2. 2. 2.]\n",
      "<scipy.optimize._constraints.NonlinearConstraint object at 0x11ef97050>\n"
     ]
    }
   ],
   "source": [
    "# A = np.identity(n) # n * n identity matrix\n",
    "smin = 1 # chaser-target minimum distance\n",
    "smax = 2 # chaser-target maximum distance\n",
    "c = smin * np.ones(n)\n",
    "print(c)\n",
    "d = smax * np.ones(n)\n",
    "con = lambda x : abs(x - pos)\n",
    "print (d)\n",
    "C2 = NonlinearConstraint(con, c, d)\n",
    "print(C2)"
   ]
  },
  {
   "cell_type": "markdown",
   "metadata": {},
   "source": [
    "### Objective function\n",
    "The optimization object is to minimize the acceleration, defined as the difference of speed at time $i$ and $i-1$:\n",
    "\\begin{equation}\n",
    "\\vert s_{i+1} - s_{i} \\vert \\text{\\ for\\ } i=0,\\ldots,n-1.\n",
    "\\end{equation}\n",
    "which is equal to the position differences:\n",
    "\\begin{equation}\n",
    "\\vert (x_{i+2} - x_{i+1}) - (x_{i+1} - x_{i}) \\vert \\text{\\ for\\ } i=0,\\ldots,n-2.\n",
    "\\end{equation}\n",
    "which can be rewritten as:\n",
    "\\begin{equation}\n",
    "\\vert x_{i+2} - 2 x_{i+1}+ x_{i} \\vert \\text{\\ for\\ } i=0,\\ldots,n-2.\n",
    "\\end{equation}\n",
    "which is equivelent to minimizing the quatity\n",
    "\\begin{equation}\n",
    "\\left( x_{i+2} - 2 x_{i+1}+ x_{i} \\right)^2 \\text{\\ for\\ } i=0,\\ldots,n-2.\n",
    "\\end{equation}"
   ]
  },
  {
   "cell_type": "code",
   "execution_count": 108,
   "metadata": {},
   "outputs": [
    {
     "name": "stdout",
     "output_type": "stream",
     "text": [
      "0.01800987499882467\n",
      "[2. 5. 3. 1. 1. 2. 6. 5. 7. 5.]\n"
     ]
    }
   ],
   "source": [
    "#f = lambda x : sum([ (x[i+2]-2*x[i+1]+x[i])**2 for i in range(n-2)])\n",
    "f = lambda x : sum([ abs(x[i+2]-2*x[i+1]+x[i]) for i in range(n-2)])\n",
    "start = timer()\n",
    "sol = opt.minimize(f, np.zeros(n), bounds=C1, constraints=(C2,))\n",
    "end = timer()\n",
    "print(end - start)\n",
    "print(np.round(sol.x))"
   ]
  },
  {
   "cell_type": "code",
   "execution_count": null,
   "metadata": {},
   "outputs": [],
   "source": []
  }
 ],
 "metadata": {
  "kernelspec": {
   "display_name": "Python 3 (ipykernel)",
   "language": "python",
   "name": "python3"
  },
  "language_info": {
   "codemirror_mode": {
    "name": "ipython",
    "version": 3
   },
   "file_extension": ".py",
   "mimetype": "text/x-python",
   "name": "python",
   "nbconvert_exporter": "python",
   "pygments_lexer": "ipython3",
   "version": "3.11.7"
  }
 },
 "nbformat": 4,
 "nbformat_minor": 4
}
